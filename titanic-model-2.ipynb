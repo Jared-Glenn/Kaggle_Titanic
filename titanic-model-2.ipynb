{
 "cells": [
  {
   "cell_type": "code",
   "execution_count": 1,
   "id": "1b0d0a67",
   "metadata": {
    "_cell_guid": "b1076dfc-b9ad-4769-8c92-a6c4dae69d19",
    "_uuid": "8f2839f25d086af736a60e9eeb907d3b93b6e0e5",
    "execution": {
     "iopub.execute_input": "2022-07-14T04:35:50.627380Z",
     "iopub.status.busy": "2022-07-14T04:35:50.626838Z",
     "iopub.status.idle": "2022-07-14T04:35:50.641754Z",
     "shell.execute_reply": "2022-07-14T04:35:50.640532Z"
    },
    "papermill": {
     "duration": 0.03181,
     "end_time": "2022-07-14T04:35:50.645640",
     "exception": false,
     "start_time": "2022-07-14T04:35:50.613830",
     "status": "completed"
    },
    "tags": []
   },
   "outputs": [
    {
     "name": "stdout",
     "output_type": "stream",
     "text": [
      "/kaggle/input/titanic/train.csv\n",
      "/kaggle/input/titanic/test.csv\n",
      "/kaggle/input/titanic/gender_submission.csv\n"
     ]
    }
   ],
   "source": [
    "# This Python 3 environment comes with many helpful analytics libraries installed\n",
    "# It is defined by the kaggle/python Docker image: https://github.com/kaggle/docker-python\n",
    "# For example, here's several helpful packages to load\n",
    "\n",
    "import numpy as np # linear algebra\n",
    "import pandas as pd # data processing, CSV file I/O (e.g. pd.read_csv)\n",
    "\n",
    "# Input data files are available in the read-only \"../input/\" directory\n",
    "# For example, running this (by clicking run or pressing Shift+Enter) will list all files under the input directory\n",
    "\n",
    "import os\n",
    "for dirname, _, filenames in os.walk('/kaggle/input'):\n",
    "    for filename in filenames:\n",
    "        print(os.path.join(dirname, filename))\n",
    "\n",
    "# You can write up to 20GB to the current directory (/kaggle/working/) that gets preserved as output when you create a version using \"Save & Run All\" \n",
    "# You can also write temporary files to /kaggle/temp/, but they won't be saved outside of the current session"
   ]
  },
  {
   "cell_type": "code",
   "execution_count": 2,
   "id": "6838d764",
   "metadata": {
    "execution": {
     "iopub.execute_input": "2022-07-14T04:35:50.667301Z",
     "iopub.status.busy": "2022-07-14T04:35:50.666893Z",
     "iopub.status.idle": "2022-07-14T04:35:50.705615Z",
     "shell.execute_reply": "2022-07-14T04:35:50.704675Z"
    },
    "papermill": {
     "duration": 0.051875,
     "end_time": "2022-07-14T04:35:50.707646",
     "exception": false,
     "start_time": "2022-07-14T04:35:50.655771",
     "status": "completed"
    },
    "tags": []
   },
   "outputs": [
    {
     "data": {
      "text/html": [
       "<div>\n",
       "<style scoped>\n",
       "    .dataframe tbody tr th:only-of-type {\n",
       "        vertical-align: middle;\n",
       "    }\n",
       "\n",
       "    .dataframe tbody tr th {\n",
       "        vertical-align: top;\n",
       "    }\n",
       "\n",
       "    .dataframe thead th {\n",
       "        text-align: right;\n",
       "    }\n",
       "</style>\n",
       "<table border=\"1\" class=\"dataframe\">\n",
       "  <thead>\n",
       "    <tr style=\"text-align: right;\">\n",
       "      <th></th>\n",
       "      <th>PassengerId</th>\n",
       "      <th>Survived</th>\n",
       "      <th>Pclass</th>\n",
       "      <th>Name</th>\n",
       "      <th>Sex</th>\n",
       "      <th>Age</th>\n",
       "      <th>SibSp</th>\n",
       "      <th>Parch</th>\n",
       "      <th>Ticket</th>\n",
       "      <th>Fare</th>\n",
       "      <th>Cabin</th>\n",
       "      <th>Embarked</th>\n",
       "    </tr>\n",
       "  </thead>\n",
       "  <tbody>\n",
       "    <tr>\n",
       "      <th>0</th>\n",
       "      <td>1</td>\n",
       "      <td>0</td>\n",
       "      <td>3</td>\n",
       "      <td>Braund, Mr. Owen Harris</td>\n",
       "      <td>male</td>\n",
       "      <td>22.0</td>\n",
       "      <td>1</td>\n",
       "      <td>0</td>\n",
       "      <td>A/5 21171</td>\n",
       "      <td>7.2500</td>\n",
       "      <td>NaN</td>\n",
       "      <td>S</td>\n",
       "    </tr>\n",
       "    <tr>\n",
       "      <th>1</th>\n",
       "      <td>2</td>\n",
       "      <td>1</td>\n",
       "      <td>1</td>\n",
       "      <td>Cumings, Mrs. John Bradley (Florence Briggs Th...</td>\n",
       "      <td>female</td>\n",
       "      <td>38.0</td>\n",
       "      <td>1</td>\n",
       "      <td>0</td>\n",
       "      <td>PC 17599</td>\n",
       "      <td>71.2833</td>\n",
       "      <td>C85</td>\n",
       "      <td>C</td>\n",
       "    </tr>\n",
       "    <tr>\n",
       "      <th>2</th>\n",
       "      <td>3</td>\n",
       "      <td>1</td>\n",
       "      <td>3</td>\n",
       "      <td>Heikkinen, Miss. Laina</td>\n",
       "      <td>female</td>\n",
       "      <td>26.0</td>\n",
       "      <td>0</td>\n",
       "      <td>0</td>\n",
       "      <td>STON/O2. 3101282</td>\n",
       "      <td>7.9250</td>\n",
       "      <td>NaN</td>\n",
       "      <td>S</td>\n",
       "    </tr>\n",
       "    <tr>\n",
       "      <th>3</th>\n",
       "      <td>4</td>\n",
       "      <td>1</td>\n",
       "      <td>1</td>\n",
       "      <td>Futrelle, Mrs. Jacques Heath (Lily May Peel)</td>\n",
       "      <td>female</td>\n",
       "      <td>35.0</td>\n",
       "      <td>1</td>\n",
       "      <td>0</td>\n",
       "      <td>113803</td>\n",
       "      <td>53.1000</td>\n",
       "      <td>C123</td>\n",
       "      <td>S</td>\n",
       "    </tr>\n",
       "    <tr>\n",
       "      <th>4</th>\n",
       "      <td>5</td>\n",
       "      <td>0</td>\n",
       "      <td>3</td>\n",
       "      <td>Allen, Mr. William Henry</td>\n",
       "      <td>male</td>\n",
       "      <td>35.0</td>\n",
       "      <td>0</td>\n",
       "      <td>0</td>\n",
       "      <td>373450</td>\n",
       "      <td>8.0500</td>\n",
       "      <td>NaN</td>\n",
       "      <td>S</td>\n",
       "    </tr>\n",
       "  </tbody>\n",
       "</table>\n",
       "</div>"
      ],
      "text/plain": [
       "   PassengerId  Survived  Pclass  \\\n",
       "0            1         0       3   \n",
       "1            2         1       1   \n",
       "2            3         1       3   \n",
       "3            4         1       1   \n",
       "4            5         0       3   \n",
       "\n",
       "                                                Name     Sex   Age  SibSp  \\\n",
       "0                            Braund, Mr. Owen Harris    male  22.0      1   \n",
       "1  Cumings, Mrs. John Bradley (Florence Briggs Th...  female  38.0      1   \n",
       "2                             Heikkinen, Miss. Laina  female  26.0      0   \n",
       "3       Futrelle, Mrs. Jacques Heath (Lily May Peel)  female  35.0      1   \n",
       "4                           Allen, Mr. William Henry    male  35.0      0   \n",
       "\n",
       "   Parch            Ticket     Fare Cabin Embarked  \n",
       "0      0         A/5 21171   7.2500   NaN        S  \n",
       "1      0          PC 17599  71.2833   C85        C  \n",
       "2      0  STON/O2. 3101282   7.9250   NaN        S  \n",
       "3      0            113803  53.1000  C123        S  \n",
       "4      0            373450   8.0500   NaN        S  "
      ]
     },
     "execution_count": 2,
     "metadata": {},
     "output_type": "execute_result"
    }
   ],
   "source": [
    "titanic_file_path = '/kaggle/input/titanic/train.csv'\n",
    "\n",
    "titanic_data = pd.read_csv(titanic_file_path)\n",
    "\n",
    "titanic_data.head()"
   ]
  },
  {
   "cell_type": "markdown",
   "id": "7a32df97",
   "metadata": {
    "papermill": {
     "duration": 0.009239,
     "end_time": "2022-07-14T04:35:50.727147",
     "exception": false,
     "start_time": "2022-07-14T04:35:50.717908",
     "status": "completed"
    },
    "tags": []
   },
   "source": [
    "First, I will make a list of all the columns so I can take a look at the correlation matrix for each of these elements."
   ]
  },
  {
   "cell_type": "code",
   "execution_count": 3,
   "id": "86a11fb6",
   "metadata": {
    "execution": {
     "iopub.execute_input": "2022-07-14T04:35:50.749300Z",
     "iopub.status.busy": "2022-07-14T04:35:50.748452Z",
     "iopub.status.idle": "2022-07-14T04:35:50.753343Z",
     "shell.execute_reply": "2022-07-14T04:35:50.752297Z"
    },
    "papermill": {
     "duration": 0.018385,
     "end_time": "2022-07-14T04:35:50.755204",
     "exception": false,
     "start_time": "2022-07-14T04:35:50.736819",
     "status": "completed"
    },
    "tags": []
   },
   "outputs": [
    {
     "name": "stdout",
     "output_type": "stream",
     "text": [
      "['PassengerId', 'Survived', 'Pclass', 'Name', 'Sex', 'Age', 'SibSp', 'Parch', 'Ticket', 'Fare', 'Cabin', 'Embarked']\n"
     ]
    }
   ],
   "source": [
    "columns = list(titanic_data.columns.values)\n",
    "print(columns)"
   ]
  },
  {
   "cell_type": "markdown",
   "id": "d80e1e1c",
   "metadata": {
    "papermill": {
     "duration": 0.009294,
     "end_time": "2022-07-14T04:35:50.774420",
     "exception": false,
     "start_time": "2022-07-14T04:35:50.765126",
     "status": "completed"
    },
    "tags": []
   },
   "source": [
    "With the elements listed, I now need to see which are numeric and which are categorical, which I can do with describe()."
   ]
  },
  {
   "cell_type": "code",
   "execution_count": 4,
   "id": "2ea55ff6",
   "metadata": {
    "execution": {
     "iopub.execute_input": "2022-07-14T04:35:50.795699Z",
     "iopub.status.busy": "2022-07-14T04:35:50.794618Z",
     "iopub.status.idle": "2022-07-14T04:35:50.835278Z",
     "shell.execute_reply": "2022-07-14T04:35:50.833748Z"
    },
    "papermill": {
     "duration": 0.053774,
     "end_time": "2022-07-14T04:35:50.837617",
     "exception": false,
     "start_time": "2022-07-14T04:35:50.783843",
     "status": "completed"
    },
    "tags": []
   },
   "outputs": [
    {
     "name": "stdout",
     "output_type": "stream",
     "text": [
      "       PassengerId    Survived      Pclass         Age       SibSp  \\\n",
      "count   891.000000  891.000000  891.000000  714.000000  891.000000   \n",
      "mean    446.000000    0.383838    2.308642   29.699118    0.523008   \n",
      "std     257.353842    0.486592    0.836071   14.526497    1.102743   \n",
      "min       1.000000    0.000000    1.000000    0.420000    0.000000   \n",
      "25%     223.500000    0.000000    2.000000   20.125000    0.000000   \n",
      "50%     446.000000    0.000000    3.000000   28.000000    0.000000   \n",
      "75%     668.500000    1.000000    3.000000   38.000000    1.000000   \n",
      "max     891.000000    1.000000    3.000000   80.000000    8.000000   \n",
      "\n",
      "            Parch        Fare  \n",
      "count  891.000000  891.000000  \n",
      "mean     0.381594   32.204208  \n",
      "std      0.806057   49.693429  \n",
      "min      0.000000    0.000000  \n",
      "25%      0.000000    7.910400  \n",
      "50%      0.000000   14.454200  \n",
      "75%      0.000000   31.000000  \n",
      "max      6.000000  512.329200  \n"
     ]
    }
   ],
   "source": [
    "print(titanic_data.describe())"
   ]
  },
  {
   "cell_type": "markdown",
   "id": "e7fd251b",
   "metadata": {
    "papermill": {
     "duration": 0.009252,
     "end_time": "2022-07-14T04:35:50.856438",
     "exception": false,
     "start_time": "2022-07-14T04:35:50.847186",
     "status": "completed"
    },
    "tags": []
   },
   "source": [
    "Now I will need to review how each of the remaining elements are categorized to see if they, perhaps, can logically be split into larger groups for comparison."
   ]
  },
  {
   "cell_type": "code",
   "execution_count": 5,
   "id": "b294bbb4",
   "metadata": {
    "execution": {
     "iopub.execute_input": "2022-07-14T04:35:50.877608Z",
     "iopub.status.busy": "2022-07-14T04:35:50.877098Z",
     "iopub.status.idle": "2022-07-14T04:35:50.887868Z",
     "shell.execute_reply": "2022-07-14T04:35:50.886448Z"
    },
    "papermill": {
     "duration": 0.024442,
     "end_time": "2022-07-14T04:35:50.890355",
     "exception": false,
     "start_time": "2022-07-14T04:35:50.865913",
     "status": "completed"
    },
    "tags": []
   },
   "outputs": [
    {
     "name": "stdout",
     "output_type": "stream",
     "text": [
      "0       male\n",
      "1     female\n",
      "2     female\n",
      "3     female\n",
      "4       male\n",
      "5       male\n",
      "6       male\n",
      "7       male\n",
      "8     female\n",
      "9     female\n",
      "10    female\n",
      "11    female\n",
      "12      male\n",
      "13      male\n",
      "14    female\n",
      "Name: Sex, dtype: object\n",
      "0     S\n",
      "1     C\n",
      "2     S\n",
      "3     S\n",
      "4     S\n",
      "5     Q\n",
      "6     S\n",
      "7     S\n",
      "8     S\n",
      "9     C\n",
      "10    S\n",
      "11    S\n",
      "12    S\n",
      "13    S\n",
      "14    S\n",
      "Name: Embarked, dtype: object\n",
      "0            A/5 21171\n",
      "1             PC 17599\n",
      "2     STON/O2. 3101282\n",
      "3               113803\n",
      "4               373450\n",
      "5               330877\n",
      "6                17463\n",
      "7               349909\n",
      "8               347742\n",
      "9               237736\n",
      "10             PP 9549\n",
      "11              113783\n",
      "12           A/5. 2151\n",
      "13              347082\n",
      "14              350406\n",
      "Name: Ticket, dtype: object\n",
      "0      NaN\n",
      "1      C85\n",
      "2      NaN\n",
      "3     C123\n",
      "4      NaN\n",
      "5      NaN\n",
      "6      E46\n",
      "7      NaN\n",
      "8      NaN\n",
      "9      NaN\n",
      "10      G6\n",
      "11    C103\n",
      "12     NaN\n",
      "13     NaN\n",
      "14     NaN\n",
      "Name: Cabin, dtype: object\n"
     ]
    }
   ],
   "source": [
    "categorical_subset = titanic_data[['Sex', 'Embarked', 'Ticket', 'Cabin']]\n",
    "\n",
    "print(titanic_data.Sex.head(15))\n",
    "print(titanic_data.Embarked.head(15))\n",
    "print(titanic_data.Ticket.head(15))\n",
    "print(titanic_data.Cabin.head(15))"
   ]
  },
  {
   "cell_type": "code",
   "execution_count": 6,
   "id": "e4930a44",
   "metadata": {
    "execution": {
     "iopub.execute_input": "2022-07-14T04:35:50.914565Z",
     "iopub.status.busy": "2022-07-14T04:35:50.913855Z",
     "iopub.status.idle": "2022-07-14T04:35:50.928555Z",
     "shell.execute_reply": "2022-07-14T04:35:50.927263Z"
    },
    "papermill": {
     "duration": 0.030375,
     "end_time": "2022-07-14T04:35:50.931525",
     "exception": false,
     "start_time": "2022-07-14T04:35:50.901150",
     "status": "completed"
    },
    "tags": []
   },
   "outputs": [
    {
     "name": "stdout",
     "output_type": "stream",
     "text": [
      "male      577\n",
      "female    314\n",
      "Name: Sex, dtype: int64\n",
      "S    644\n",
      "C    168\n",
      "Q     77\n",
      "Name: Embarked, dtype: int64\n",
      "347082      7\n",
      "CA. 2343    7\n",
      "1601        7\n",
      "3101295     6\n",
      "CA 2144     6\n",
      "           ..\n",
      "9234        1\n",
      "19988       1\n",
      "2693        1\n",
      "PC 17612    1\n",
      "370376      1\n",
      "Name: Ticket, Length: 681, dtype: int64\n",
      "B96 B98        4\n",
      "G6             4\n",
      "C23 C25 C27    4\n",
      "C22 C26        3\n",
      "F33            3\n",
      "              ..\n",
      "E34            1\n",
      "C7             1\n",
      "C54            1\n",
      "E36            1\n",
      "C148           1\n",
      "Name: Cabin, Length: 147, dtype: int64\n"
     ]
    }
   ],
   "source": [
    "\n",
    "\n",
    "print(titanic_data['Sex'].value_counts())\n",
    "print(titanic_data['Embarked'].value_counts())\n",
    "print(titanic_data['Ticket'].value_counts())\n",
    "print(titanic_data['Cabin'].value_counts())"
   ]
  },
  {
   "cell_type": "code",
   "execution_count": 7,
   "id": "d53efcb1",
   "metadata": {
    "execution": {
     "iopub.execute_input": "2022-07-14T04:35:50.955729Z",
     "iopub.status.busy": "2022-07-14T04:35:50.954926Z",
     "iopub.status.idle": "2022-07-14T04:35:50.963616Z",
     "shell.execute_reply": "2022-07-14T04:35:50.962308Z"
    },
    "papermill": {
     "duration": 0.023158,
     "end_time": "2022-07-14T04:35:50.965701",
     "exception": false,
     "start_time": "2022-07-14T04:35:50.942543",
     "status": "completed"
    },
    "tags": []
   },
   "outputs": [
    {
     "name": "stdout",
     "output_type": "stream",
     "text": [
      "PassengerId      0\n",
      "Survived         0\n",
      "Pclass           0\n",
      "Name             0\n",
      "Sex              0\n",
      "Age            177\n",
      "SibSp            0\n",
      "Parch            0\n",
      "Ticket           0\n",
      "Fare             0\n",
      "Cabin          687\n",
      "Embarked         2\n",
      "dtype: int64\n"
     ]
    }
   ],
   "source": [
    "print(titanic_data.isnull().sum())"
   ]
  },
  {
   "cell_type": "markdown",
   "id": "075386fb",
   "metadata": {
    "papermill": {
     "duration": 0.009785,
     "end_time": "2022-07-14T04:35:50.985784",
     "exception": false,
     "start_time": "2022-07-14T04:35:50.975999",
     "status": "completed"
    },
    "tags": []
   },
   "source": [
    "Clearly, Sex is an easily categorized variable, as is Embarked, since those contain a minimum number of possible responses. Those can be assigned dummy values as they are. Ticket does not have any immediately noticeable patterns, though there are occasional repeating letter patterns. Additional exploration would be necessary to use that variable.\n",
    "\n",
    "Cabin provides an interesting possibility for consideration. The naming convension of the cabins indicates that they are separated into sections by letter. It is possible that certain sections were more deadly than others, regardless of Sex of Pclass. It is also notable that Cabin has the most null values in the data set by a large margin. Both of these facts deserve exploration."
   ]
  },
  {
   "cell_type": "code",
   "execution_count": 8,
   "id": "3f807bf8",
   "metadata": {
    "execution": {
     "iopub.execute_input": "2022-07-14T04:35:51.008105Z",
     "iopub.status.busy": "2022-07-14T04:35:51.007138Z",
     "iopub.status.idle": "2022-07-14T04:35:51.019506Z",
     "shell.execute_reply": "2022-07-14T04:35:51.018406Z"
    },
    "papermill": {
     "duration": 0.025785,
     "end_time": "2022-07-14T04:35:51.021700",
     "exception": false,
     "start_time": "2022-07-14T04:35:50.995915",
     "status": "completed"
    },
    "tags": []
   },
   "outputs": [
    {
     "data": {
      "text/plain": [
       "0     Unknown\n",
       "1           C\n",
       "2     Unknown\n",
       "3           C\n",
       "4     Unknown\n",
       "5     Unknown\n",
       "6           E\n",
       "7     Unknown\n",
       "8     Unknown\n",
       "9     Unknown\n",
       "10          G\n",
       "11          C\n",
       "12    Unknown\n",
       "13    Unknown\n",
       "14    Unknown\n",
       "15    Unknown\n",
       "16    Unknown\n",
       "17    Unknown\n",
       "18    Unknown\n",
       "19    Unknown\n",
       "Name: cabin_section, dtype: object"
      ]
     },
     "execution_count": 8,
     "metadata": {},
     "output_type": "execute_result"
    }
   ],
   "source": [
    "import re\n",
    "\n",
    "titanic_data['cabin_section'] = titanic_data['Cabin'].str.extract('([A-Z])', expand=True)\n",
    "titanic_data['cabin_section'] = titanic_data[['cabin_section']].fillna(value = 'Unknown')\n",
    "\n",
    "# pd.set_option(\"max_rows\", None)\n",
    "\n",
    "titanic_data['cabin_section'].head(20)\n",
    "# titanic_data.Cabin.head"
   ]
  },
  {
   "cell_type": "code",
   "execution_count": 9,
   "id": "01a981e8",
   "metadata": {
    "execution": {
     "iopub.execute_input": "2022-07-14T04:35:51.043758Z",
     "iopub.status.busy": "2022-07-14T04:35:51.043378Z",
     "iopub.status.idle": "2022-07-14T04:35:51.050776Z",
     "shell.execute_reply": "2022-07-14T04:35:51.049274Z"
    },
    "papermill": {
     "duration": 0.020898,
     "end_time": "2022-07-14T04:35:51.053035",
     "exception": false,
     "start_time": "2022-07-14T04:35:51.032137",
     "status": "completed"
    },
    "tags": []
   },
   "outputs": [
    {
     "name": "stdout",
     "output_type": "stream",
     "text": [
      "Unknown    687\n",
      "C           59\n",
      "B           47\n",
      "D           33\n",
      "E           32\n",
      "A           15\n",
      "F           13\n",
      "G            4\n",
      "T            1\n",
      "Name: cabin_section, dtype: int64\n"
     ]
    }
   ],
   "source": [
    "print(titanic_data['cabin_section'].value_counts())"
   ]
  },
  {
   "cell_type": "markdown",
   "id": "f657972a",
   "metadata": {
    "papermill": {
     "duration": 0.009422,
     "end_time": "2022-07-14T04:35:51.072469",
     "exception": false,
     "start_time": "2022-07-14T04:35:51.063047",
     "status": "completed"
    },
    "tags": []
   },
   "source": [
    "I have altered the Cabin column to reflect the section of the ship where the cabin is located and turned this into a new variable cabin_section. I have also put NAN values into their own variable so they can be considered in the model. It is possible that this lack of information could constitute factors that might lead to surviving the disaster or not."
   ]
  },
  {
   "cell_type": "code",
   "execution_count": 10,
   "id": "9d5fa85b",
   "metadata": {
    "execution": {
     "iopub.execute_input": "2022-07-14T04:35:51.094306Z",
     "iopub.status.busy": "2022-07-14T04:35:51.093381Z",
     "iopub.status.idle": "2022-07-14T04:35:51.107732Z",
     "shell.execute_reply": "2022-07-14T04:35:51.106533Z"
    },
    "papermill": {
     "duration": 0.028187,
     "end_time": "2022-07-14T04:35:51.110344",
     "exception": false,
     "start_time": "2022-07-14T04:35:51.082157",
     "status": "completed"
    },
    "tags": []
   },
   "outputs": [],
   "source": [
    "numerical_subset = titanic_data[['Pclass', 'Parch', 'Age', 'SibSp', 'Parch', 'Fare', 'Survived']]\n",
    "\n",
    "categorical_subset = titanic_data[['Sex', 'Embarked', 'cabin_section']]\n",
    "categorical_subset = pd.get_dummies(categorical_subset)\n",
    "\n",
    "features = pd.concat([numerical_subset, categorical_subset], axis=1)"
   ]
  },
  {
   "cell_type": "code",
   "execution_count": 11,
   "id": "bca00ad5",
   "metadata": {
    "execution": {
     "iopub.execute_input": "2022-07-14T04:35:51.132869Z",
     "iopub.status.busy": "2022-07-14T04:35:51.131781Z",
     "iopub.status.idle": "2022-07-14T04:35:51.148844Z",
     "shell.execute_reply": "2022-07-14T04:35:51.147457Z"
    },
    "papermill": {
     "duration": 0.031029,
     "end_time": "2022-07-14T04:35:51.151377",
     "exception": false,
     "start_time": "2022-07-14T04:35:51.120348",
     "status": "completed"
    },
    "tags": []
   },
   "outputs": [
    {
     "name": "stdout",
     "output_type": "stream",
     "text": [
      "Sex_male                -0.543351\n",
      "Pclass                  -0.338481\n",
      "cabin_section_Unknown   -0.316912\n",
      "Embarked_S              -0.155660\n",
      "Age                     -0.077221\n",
      "SibSp                   -0.035322\n",
      "cabin_section_T         -0.026456\n",
      "Embarked_Q               0.003650\n",
      "cabin_section_G          0.016040\n",
      "cabin_section_A          0.022287\n",
      "cabin_section_F          0.057935\n",
      "Parch                    0.081629\n",
      "Parch                    0.081629\n",
      "cabin_section_C          0.114652\n",
      "cabin_section_E          0.145321\n",
      "Name: Survived, dtype: float64 \n",
      "\n",
      "cabin_section_T   -0.026456\n",
      "Embarked_Q         0.003650\n",
      "cabin_section_G    0.016040\n",
      "cabin_section_A    0.022287\n",
      "cabin_section_F    0.057935\n",
      "Parch              0.081629\n",
      "Parch              0.081629\n",
      "cabin_section_C    0.114652\n",
      "cabin_section_E    0.145321\n",
      "cabin_section_D    0.150716\n",
      "Embarked_C         0.168240\n",
      "cabin_section_B    0.175095\n",
      "Fare               0.257307\n",
      "Sex_female         0.543351\n",
      "Survived           1.000000\n",
      "Name: Survived, dtype: float64\n"
     ]
    }
   ],
   "source": [
    "# Find all correlations and sort \n",
    "correlations_data = features.corr()['Survived'].sort_values()\n",
    "\n",
    "# Print the most negative correlations\n",
    "print(correlations_data.head(15), '\\n')\n",
    "\n",
    "# Print the most positive correlations\n",
    "print(correlations_data.tail(15))"
   ]
  },
  {
   "cell_type": "markdown",
   "id": "c0fccf36",
   "metadata": {
    "papermill": {
     "duration": 0.009781,
     "end_time": "2022-07-14T04:35:51.171639",
     "exception": false,
     "start_time": "2022-07-14T04:35:51.161858",
     "status": "completed"
    },
    "tags": []
   },
   "source": [
    "From the correlation matrix, we can see that Sex has the largest correlation with survivorship. Class appears to be negatively associated with survivorship, but this is due to the computer assigned class values a true numerical value, rather than its symbolic one it has in the real world. cabin_section_Unknown is also negatively associated with survivorship, suggesting that we might be right about that variable.\n",
    "\n",
    "Fare also seems to have played a role, as it is positively associated with survivorhood. This seems like an extension of Pclass, but if so, why is the correlation reduced by roughly 8%? Perhaps it is thrown off by the crew that did not pay for the voyage? Or perhaps some wealthy people were guests on the ship and did not pay. Both are possible, so additional exploration is required.\n",
    "\n",
    "We will start by looking at a bar chart of survival rates by cabin section."
   ]
  },
  {
   "cell_type": "code",
   "execution_count": 12,
   "id": "92201e67",
   "metadata": {
    "execution": {
     "iopub.execute_input": "2022-07-14T04:35:51.193682Z",
     "iopub.status.busy": "2022-07-14T04:35:51.192798Z",
     "iopub.status.idle": "2022-07-14T04:35:51.460580Z",
     "shell.execute_reply": "2022-07-14T04:35:51.459247Z"
    },
    "papermill": {
     "duration": 0.281638,
     "end_time": "2022-07-14T04:35:51.463204",
     "exception": false,
     "start_time": "2022-07-14T04:35:51.181566",
     "status": "completed"
    },
    "tags": []
   },
   "outputs": [
    {
     "data": {
      "image/png": "[encoded data removed]",
      "text/plain": [
       "<Figure size 720x576 with 1 Axes>"
      ]
     },
     "metadata": {
      "needs_background": "light"
     },
     "output_type": "display_data"
    }
   ],
   "source": [
    "section_survival = titanic_data.groupby(['cabin_section'])['Survived'].value_counts().unstack().plot(figsize=(10, 8), kind='bar',stacked = False)"
   ]
  },
  {
   "cell_type": "markdown",
   "id": "afb8e9f1",
   "metadata": {
    "papermill": {
     "duration": 0.009922,
     "end_time": "2022-07-14T04:35:51.484185",
     "exception": false,
     "start_time": "2022-07-14T04:35:51.474263",
     "status": "completed"
    },
    "tags": []
   },
   "source": [
    "We can see here that survivor rates, with the exception of Sections A, G, and T, tend to be higher when the section is known. G and T seem to be fairly even, but not well represented.\n",
    "\n",
    "Upon further research (https://titanic.fandom.com/wiki/A_Deck), it appears that there are a lot of unknown occupants of Deck A, which might be contributing to its unusual composition. From the occupants that are known, it seems that many of these particular occupants were unwilling to leave, either due to disbelief, fear of leaving the ship, or guilt at its sinking, rather than being willfully excluded from lifeboats.\n",
    "\n",
    "Decks B and C https://titanic.fandom.com/wiki/B_Deck#:~:text=B%20Deck%2C%20also%20called%20the,featuring%20their%20own%20private%20promenades., https://titanic.fandom.com/wiki/C_Deck ), have a much higher proportion of known occupants than any other decks, so we can have a higher certainty that these proportions are fairly accurate.\n",
    "\n",
    "G and F decks were entirely third class passengers and both of these decks were completely flooded within minutes of hitting the iceberg. Since there were 1,100 third class passengers, it appears that both G and F were full of Unknown status passengers.\n",
    "\n",
    "Interestingly, E deck, despite being fairly low in the ship, had a comparatively high survival rate. Whether or not it played a part is uncertain, but we can note that a majority of the onboard crew were cabined on E deck (https://titanic.fandom.com/wiki/E_Deck ). It is possible that, despite a comparatively low status, their position of power on the ship afforded them a better chance of surviving."
   ]
  },
  {
   "cell_type": "code",
   "execution_count": 13,
   "id": "a5c59f83",
   "metadata": {
    "execution": {
     "iopub.execute_input": "2022-07-14T04:35:51.506091Z",
     "iopub.status.busy": "2022-07-14T04:35:51.505624Z",
     "iopub.status.idle": "2022-07-14T04:35:51.693079Z",
     "shell.execute_reply": "2022-07-14T04:35:51.691528Z"
    },
    "papermill": {
     "duration": 0.201248,
     "end_time": "2022-07-14T04:35:51.695567",
     "exception": false,
     "start_time": "2022-07-14T04:35:51.494319",
     "status": "completed"
    },
    "tags": []
   },
   "outputs": [
    {
     "data": {
      "image/png": "[encoded data removed]",
      "text/plain": [
       "<Figure size 720x576 with 1 Axes>"
      ]
     },
     "metadata": {
      "needs_background": "light"
     },
     "output_type": "display_data"
    }
   ],
   "source": [
    "sex_survival = titanic_data.groupby(['Sex'])['Survived'].value_counts().unstack().plot(figsize=(10, 8), kind='bar',stacked = False)"
   ]
  },
  {
   "cell_type": "markdown",
   "id": "996ff570",
   "metadata": {
    "papermill": {
     "duration": 0.009979,
     "end_time": "2022-07-14T04:35:51.716125",
     "exception": false,
     "start_time": "2022-07-14T04:35:51.706146",
     "status": "completed"
    },
    "tags": []
   },
   "source": [
    "The difference between the survivorship of the sexes is highly significant, though unsurprising. The phrase \"women and children first\" seemed to have been a guiding cultural principle for those onboard, though it was clearly not absolute, as certain men were considered exceptions."
   ]
  },
  {
   "cell_type": "code",
   "execution_count": 14,
   "id": "2dc54cfa",
   "metadata": {
    "execution": {
     "iopub.execute_input": "2022-07-14T04:35:51.739089Z",
     "iopub.status.busy": "2022-07-14T04:35:51.738708Z",
     "iopub.status.idle": "2022-07-14T04:35:51.937835Z",
     "shell.execute_reply": "2022-07-14T04:35:51.936522Z"
    },
    "papermill": {
     "duration": 0.21401,
     "end_time": "2022-07-14T04:35:51.940428",
     "exception": false,
     "start_time": "2022-07-14T04:35:51.726418",
     "status": "completed"
    },
    "tags": []
   },
   "outputs": [
    {
     "data": {
      "image/png": "[encoded data removed]",
      "text/plain": [
       "<Figure size 720x576 with 1 Axes>"
      ]
     },
     "metadata": {
      "needs_background": "light"
     },
     "output_type": "display_data"
    }
   ],
   "source": [
    "class_survival = titanic_data.groupby(['Pclass'])['Survived'].value_counts().unstack().plot(figsize=(10, 8), kind='bar',stacked = False)"
   ]
  },
  {
   "cell_type": "markdown",
   "id": "586cd42d",
   "metadata": {
    "papermill": {
     "duration": 0.010394,
     "end_time": "2022-07-14T04:35:51.961569",
     "exception": false,
     "start_time": "2022-07-14T04:35:51.951175",
     "status": "completed"
    },
    "tags": []
   },
   "source": [
    "The most significant piece of this graph is the likelihood of a third class passenger surviving, which was significantly lower than the other classes. As seen in the section examination above, part of this had to do with how quickly third class decks flooded. Many people on these decks simply did not have time to escape. The facts of the night make it clear, though, that this is not the only reason, as many third class passengers were denied access to lifeboats.\n",
    "\n",
    "We may have a better approximation of the true significance by examining the difference between first and second class passengers, who were both on sections that flooded more slowly. Here, we can see that the difference is still stark, but not quite so extreme as with third class. Still, class exclusion becomes harsher as class level is lowered, so the answer is most likely somewhere in the middle."
   ]
  },
  {
   "cell_type": "code",
   "execution_count": 15,
   "id": "e2d89c65",
   "metadata": {
    "execution": {
     "iopub.execute_input": "2022-07-14T04:35:51.984807Z",
     "iopub.status.busy": "2022-07-14T04:35:51.984037Z",
     "iopub.status.idle": "2022-07-14T04:35:51.988595Z",
     "shell.execute_reply": "2022-07-14T04:35:51.987617Z"
    },
    "papermill": {
     "duration": 0.018835,
     "end_time": "2022-07-14T04:35:51.990923",
     "exception": false,
     "start_time": "2022-07-14T04:35:51.972088",
     "status": "completed"
    },
    "tags": []
   },
   "outputs": [],
   "source": [
    "#import seaborn as sns\n",
    "#sns.set(font_scale = 2)\n",
    "#import matplotlib.pyplot as plt\n",
    "#%matplotlib inline\n",
    "\n",
    "#cabin_encode = pd.get_dummies(titanic_data[['cabin_section']])\n",
    "#some_features = titanic_data[['Fare', 'Survived']]\n",
    "\n",
    "#features = pd.concat([some_features, cabin_encode], axis=1)\n",
    "\n",
    "# Use seaborn to plot a scatterplot of Score vs Log Source EUI\n",
    "#sns.lmplot('Fare', 'cabin_section', \n",
    "#          hue = 'Survived', data = features,\n",
    "#          scatter_kws = {'alpha': 0.8, 's': 60}, fit_reg = False,\n",
    "#          size = 12, aspect = 1.2);\n",
    "\n",
    "# Plot labeling\n",
    "#plt.xlabel(\"Fare\", size = 28)\n",
    "#plt.ylabel('Deck', size = 28)\n",
    "#plt.title('Class and Cabin Compared With Survival', size = 36);"
   ]
  },
  {
   "cell_type": "markdown",
   "id": "e30543d1",
   "metadata": {
    "papermill": {
     "duration": 0.01036,
     "end_time": "2022-07-14T04:35:52.012449",
     "exception": false,
     "start_time": "2022-07-14T04:35:52.002089",
     "status": "completed"
    },
    "tags": []
   },
   "source": [
    "(This was an attempt to make use of a scatterplot, but this particular type of representation does not seem to serve our model, regardless of how it is changed. I may return to it later.)"
   ]
  },
  {
   "cell_type": "code",
   "execution_count": 16,
   "id": "798a96f6",
   "metadata": {
    "execution": {
     "iopub.execute_input": "2022-07-14T04:35:52.035617Z",
     "iopub.status.busy": "2022-07-14T04:35:52.034816Z",
     "iopub.status.idle": "2022-07-14T04:35:52.053594Z",
     "shell.execute_reply": "2022-07-14T04:35:52.052655Z"
    },
    "papermill": {
     "duration": 0.033423,
     "end_time": "2022-07-14T04:35:52.056423",
     "exception": false,
     "start_time": "2022-07-14T04:35:52.023000",
     "status": "completed"
    },
    "tags": []
   },
   "outputs": [
    {
     "name": "stdout",
     "output_type": "stream",
     "text": [
      "<bound method NDFrame.describe of      Pclass     Fare  Sex_female  Sex_male  cabin_section_A  cabin_section_B  \\\n",
      "0         3   7.2500           0         1                0                0   \n",
      "1         1  71.2833           1         0                0                0   \n",
      "2         3   7.9250           1         0                0                0   \n",
      "3         1  53.1000           1         0                0                0   \n",
      "4         3   8.0500           0         1                0                0   \n",
      "..      ...      ...         ...       ...              ...              ...   \n",
      "886       2  13.0000           0         1                0                0   \n",
      "887       1  30.0000           1         0                0                1   \n",
      "888       3  23.4500           1         0                0                0   \n",
      "889       1  30.0000           0         1                0                0   \n",
      "890       3   7.7500           0         1                0                0   \n",
      "\n",
      "     cabin_section_C  cabin_section_D  cabin_section_E  cabin_section_F  \\\n",
      "0                  0                0                0                0   \n",
      "1                  1                0                0                0   \n",
      "2                  0                0                0                0   \n",
      "3                  1                0                0                0   \n",
      "4                  0                0                0                0   \n",
      "..               ...              ...              ...              ...   \n",
      "886                0                0                0                0   \n",
      "887                0                0                0                0   \n",
      "888                0                0                0                0   \n",
      "889                1                0                0                0   \n",
      "890                0                0                0                0   \n",
      "\n",
      "     cabin_section_G  cabin_section_T  cabin_section_Unknown  Embarked_C  \\\n",
      "0                  0                0                      1           0   \n",
      "1                  0                0                      0           1   \n",
      "2                  0                0                      1           0   \n",
      "3                  0                0                      0           0   \n",
      "4                  0                0                      1           0   \n",
      "..               ...              ...                    ...         ...   \n",
      "886                0                0                      1           0   \n",
      "887                0                0                      0           0   \n",
      "888                0                0                      1           0   \n",
      "889                0                0                      0           1   \n",
      "890                0                0                      1           0   \n",
      "\n",
      "     Embarked_Q  Embarked_S  \n",
      "0             0           1  \n",
      "1             0           0  \n",
      "2             0           1  \n",
      "3             0           1  \n",
      "4             0           1  \n",
      "..          ...         ...  \n",
      "886           0           1  \n",
      "887           0           1  \n",
      "888           0           1  \n",
      "889           0           0  \n",
      "890           1           0  \n",
      "\n",
      "[891 rows x 16 columns]>\n"
     ]
    }
   ],
   "source": [
    "numerical_subset = titanic_data[['Pclass', 'Fare']]\n",
    "\n",
    "categorical_subset = titanic_data[['Sex', 'cabin_section', 'Embarked']]\n",
    "categorical_subset = pd.get_dummies(categorical_subset)\n",
    "\n",
    "features = pd.concat([numerical_subset, categorical_subset], axis=1)\n",
    "\n",
    "X = features\n",
    "\n",
    "print(X.describe)"
   ]
  },
  {
   "cell_type": "code",
   "execution_count": 17,
   "id": "464aa0bd",
   "metadata": {
    "execution": {
     "iopub.execute_input": "2022-07-14T04:35:52.081465Z",
     "iopub.status.busy": "2022-07-14T04:35:52.080382Z",
     "iopub.status.idle": "2022-07-14T04:35:52.085416Z",
     "shell.execute_reply": "2022-07-14T04:35:52.084488Z"
    },
    "papermill": {
     "duration": 0.019616,
     "end_time": "2022-07-14T04:35:52.087825",
     "exception": false,
     "start_time": "2022-07-14T04:35:52.068209",
     "status": "completed"
    },
    "tags": []
   },
   "outputs": [],
   "source": [
    "y = titanic_data.Survived"
   ]
  },
  {
   "cell_type": "code",
   "execution_count": 18,
   "id": "5fa4d82a",
   "metadata": {
    "execution": {
     "iopub.execute_input": "2022-07-14T04:35:52.113422Z",
     "iopub.status.busy": "2022-07-14T04:35:52.112881Z",
     "iopub.status.idle": "2022-07-14T04:35:53.536442Z",
     "shell.execute_reply": "2022-07-14T04:35:53.535141Z"
    },
    "papermill": {
     "duration": 1.440662,
     "end_time": "2022-07-14T04:35:53.539657",
     "exception": false,
     "start_time": "2022-07-14T04:35:52.098995",
     "status": "completed"
    },
    "tags": []
   },
   "outputs": [],
   "source": [
    "# Data Prep\n",
    "from sklearn.preprocessing import MinMaxScaler\n",
    "from sklearn.impute import SimpleImputer\n",
    "\n",
    "# Potential Models\n",
    "from sklearn.linear_model import LinearRegression\n",
    "from sklearn.ensemble import RandomForestRegressor, GradientBoostingRegressor\n",
    "from sklearn.svm import SVR\n",
    "from sklearn.neighbors import KNeighborsRegressor\n",
    "\n",
    "# Testing\n",
    "from sklearn.metrics import mean_absolute_error\n",
    "from sklearn.model_selection import train_test_split\n",
    "\n",
    "# Final model decision\n",
    "from sklearn.model_selection import RandomizedSearchCV, GridSearchCV"
   ]
  },
  {
   "cell_type": "markdown",
   "id": "69d1c839",
   "metadata": {
    "papermill": {
     "duration": 0.010557,
     "end_time": "2022-07-14T04:35:53.562365",
     "exception": false,
     "start_time": "2022-07-14T04:35:53.551808",
     "status": "completed"
    },
    "tags": []
   },
   "source": [
    "After importing necessary libraries, we split the data into a training and test set."
   ]
  },
  {
   "cell_type": "code",
   "execution_count": 19,
   "id": "12eaef72",
   "metadata": {
    "execution": {
     "iopub.execute_input": "2022-07-14T04:35:53.585693Z",
     "iopub.status.busy": "2022-07-14T04:35:53.585290Z",
     "iopub.status.idle": "2022-07-14T04:35:53.593848Z",
     "shell.execute_reply": "2022-07-14T04:35:53.592976Z"
    },
    "papermill": {
     "duration": 0.022975,
     "end_time": "2022-07-14T04:35:53.596063",
     "exception": false,
     "start_time": "2022-07-14T04:35:53.573088",
     "status": "completed"
    },
    "tags": []
   },
   "outputs": [],
   "source": [
    "X_train, X_val, y_train, y_val = train_test_split(X, y, random_state = 13)"
   ]
  },
  {
   "cell_type": "markdown",
   "id": "461f708b",
   "metadata": {
    "papermill": {
     "duration": 0.010305,
     "end_time": "2022-07-14T04:35:53.617154",
     "exception": false,
     "start_time": "2022-07-14T04:35:53.606849",
     "status": "completed"
    },
    "tags": []
   },
   "source": [
    "Imputing the missing values of Age and Embark."
   ]
  },
  {
   "cell_type": "code",
   "execution_count": 20,
   "id": "52203e97",
   "metadata": {
    "execution": {
     "iopub.execute_input": "2022-07-14T04:35:53.640400Z",
     "iopub.status.busy": "2022-07-14T04:35:53.639971Z",
     "iopub.status.idle": "2022-07-14T04:35:53.653136Z",
     "shell.execute_reply": "2022-07-14T04:35:53.652160Z"
    },
    "papermill": {
     "duration": 0.027646,
     "end_time": "2022-07-14T04:35:53.655540",
     "exception": false,
     "start_time": "2022-07-14T04:35:53.627894",
     "status": "completed"
    },
    "tags": []
   },
   "outputs": [],
   "source": [
    "imputer = SimpleImputer(strategy='median')\n",
    "\n",
    "imputer.fit(X_train)\n",
    "\n",
    "X_train = imputer.transform(X_train)\n",
    "X_val = imputer.transform(X_val)"
   ]
  },
  {
   "cell_type": "code",
   "execution_count": 21,
   "id": "ec7d85e9",
   "metadata": {
    "execution": {
     "iopub.execute_input": "2022-07-14T04:35:53.679501Z",
     "iopub.status.busy": "2022-07-14T04:35:53.678743Z",
     "iopub.status.idle": "2022-07-14T04:35:53.684630Z",
     "shell.execute_reply": "2022-07-14T04:35:53.683407Z"
    },
    "papermill": {
     "duration": 0.020388,
     "end_time": "2022-07-14T04:35:53.687056",
     "exception": false,
     "start_time": "2022-07-14T04:35:53.666668",
     "status": "completed"
    },
    "tags": []
   },
   "outputs": [
    {
     "name": "stdout",
     "output_type": "stream",
     "text": [
      "Missing values in training features:  0\n",
      "Missing values in testing features:   0\n"
     ]
    }
   ],
   "source": [
    "print('Missing values in training features: ', np.sum(np.isnan(X_train)))\n",
    "print('Missing values in testing features:  ', np.sum(np.isnan(X_val)))"
   ]
  },
  {
   "cell_type": "code",
   "execution_count": 22,
   "id": "d28a991a",
   "metadata": {
    "execution": {
     "iopub.execute_input": "2022-07-14T04:35:53.711897Z",
     "iopub.status.busy": "2022-07-14T04:35:53.710693Z",
     "iopub.status.idle": "2022-07-14T04:35:53.717831Z",
     "shell.execute_reply": "2022-07-14T04:35:53.716700Z"
    },
    "papermill": {
     "duration": 0.022053,
     "end_time": "2022-07-14T04:35:53.719832",
     "exception": false,
     "start_time": "2022-07-14T04:35:53.697779",
     "status": "completed"
    },
    "tags": []
   },
   "outputs": [],
   "source": [
    "# Create the scaler object with a range of 0-1\n",
    "scaler = MinMaxScaler(feature_range=(0, 1))\n",
    "\n",
    "# Fit on the training data\n",
    "scaler.fit(X_train)\n",
    "\n",
    "# Transform both the training and testing data\n",
    "X_train = scaler.transform(X_train)\n",
    "X_test = scaler.transform(X_val)"
   ]
  },
  {
   "cell_type": "code",
   "execution_count": 23,
   "id": "097aa64e",
   "metadata": {
    "execution": {
     "iopub.execute_input": "2022-07-14T04:35:53.744764Z",
     "iopub.status.busy": "2022-07-14T04:35:53.743977Z",
     "iopub.status.idle": "2022-07-14T04:35:53.749150Z",
     "shell.execute_reply": "2022-07-14T04:35:53.748287Z"
    },
    "papermill": {
     "duration": 0.02037,
     "end_time": "2022-07-14T04:35:53.751699",
     "exception": false,
     "start_time": "2022-07-14T04:35:53.731329",
     "status": "completed"
    },
    "tags": []
   },
   "outputs": [],
   "source": [
    "# Convert y to one-dimensional array (vector)\n",
    "y_train = np.array(y_train).reshape((-1, ))\n",
    "y_val = np.array(y_val).reshape((-1, ))"
   ]
  },
  {
   "cell_type": "code",
   "execution_count": 24,
   "id": "313915f9",
   "metadata": {
    "execution": {
     "iopub.execute_input": "2022-07-14T04:35:53.778621Z",
     "iopub.status.busy": "2022-07-14T04:35:53.777846Z",
     "iopub.status.idle": "2022-07-14T04:35:53.783654Z",
     "shell.execute_reply": "2022-07-14T04:35:53.782635Z"
    },
    "papermill": {
     "duration": 0.021463,
     "end_time": "2022-07-14T04:35:53.785649",
     "exception": false,
     "start_time": "2022-07-14T04:35:53.764186",
     "status": "completed"
    },
    "tags": []
   },
   "outputs": [],
   "source": [
    "# Function to calculate mean absolute error\n",
    "def mae(y_true, y_pred):\n",
    "    return np.mean(abs(y_true - y_pred))\n",
    "\n",
    "# Takes in a model, trains the model, and evaluates the model on the test set\n",
    "def fit_and_evaluate(model):\n",
    "    \n",
    "    # Train the model\n",
    "    model.fit(X_train, y_train)\n",
    "    \n",
    "    # Make predictions and evalute\n",
    "    model_pred = model.predict(X_val)\n",
    "    model_mae = mae(y_val, model_pred)\n",
    "    \n",
    "    # Return the performance metric\n",
    "    return model_mae"
   ]
  },
  {
   "cell_type": "code",
   "execution_count": 25,
   "id": "6ba5e8ff",
   "metadata": {
    "execution": {
     "iopub.execute_input": "2022-07-14T04:35:53.809352Z",
     "iopub.status.busy": "2022-07-14T04:35:53.808683Z",
     "iopub.status.idle": "2022-07-14T04:35:53.835090Z",
     "shell.execute_reply": "2022-07-14T04:35:53.833267Z"
    },
    "papermill": {
     "duration": 0.042993,
     "end_time": "2022-07-14T04:35:53.839373",
     "exception": false,
     "start_time": "2022-07-14T04:35:53.796380",
     "status": "completed"
    },
    "tags": []
   },
   "outputs": [
    {
     "name": "stdout",
     "output_type": "stream",
     "text": [
      "Linear Regression Performance on the test set: MAE = 3.6916\n"
     ]
    }
   ],
   "source": [
    "lr = LinearRegression()\n",
    "lr_mae = fit_and_evaluate(lr)\n",
    "\n",
    "print('Linear Regression Performance on the test set: MAE = %0.4f' % lr_mae)"
   ]
  },
  {
   "cell_type": "code",
   "execution_count": 26,
   "id": "5872ccc5",
   "metadata": {
    "execution": {
     "iopub.execute_input": "2022-07-14T04:35:53.887761Z",
     "iopub.status.busy": "2022-07-14T04:35:53.886137Z",
     "iopub.status.idle": "2022-07-14T04:35:54.077879Z",
     "shell.execute_reply": "2022-07-14T04:35:54.076659Z"
    },
    "papermill": {
     "duration": 0.21848,
     "end_time": "2022-07-14T04:35:54.080573",
     "exception": false,
     "start_time": "2022-07-14T04:35:53.862093",
     "status": "completed"
    },
    "tags": []
   },
   "outputs": [
    {
     "name": "stdout",
     "output_type": "stream",
     "text": [
      "Support Vector Machine Regression Performance on the test set: MAE = 0.4275\n"
     ]
    }
   ],
   "source": [
    "svm = SVR(C = 1000, gamma = 0.1)\n",
    "svm_mae = fit_and_evaluate(svm)\n",
    "\n",
    "print('Support Vector Machine Regression Performance on the test set: MAE = %0.4f' % svm_mae)"
   ]
  },
  {
   "cell_type": "code",
   "execution_count": 27,
   "id": "9149bceb",
   "metadata": {
    "execution": {
     "iopub.execute_input": "2022-07-14T04:35:54.105104Z",
     "iopub.status.busy": "2022-07-14T04:35:54.103726Z",
     "iopub.status.idle": "2022-07-14T04:35:54.279189Z",
     "shell.execute_reply": "2022-07-14T04:35:54.278162Z"
    },
    "papermill": {
     "duration": 0.191233,
     "end_time": "2022-07-14T04:35:54.282751",
     "exception": false,
     "start_time": "2022-07-14T04:35:54.091518",
     "status": "completed"
    },
    "tags": []
   },
   "outputs": [
    {
     "name": "stdout",
     "output_type": "stream",
     "text": [
      "Random Forest Regression Performance on the test set: MAE = 0.5099\n"
     ]
    }
   ],
   "source": [
    "random_forest = RandomForestRegressor(random_state=60)\n",
    "random_forest_mae = fit_and_evaluate(random_forest)\n",
    "\n",
    "print('Random Forest Regression Performance on the test set: MAE = %0.4f' % random_forest_mae)"
   ]
  },
  {
   "cell_type": "code",
   "execution_count": 28,
   "id": "eb5c68d7",
   "metadata": {
    "execution": {
     "iopub.execute_input": "2022-07-14T04:35:54.308608Z",
     "iopub.status.busy": "2022-07-14T04:35:54.307855Z",
     "iopub.status.idle": "2022-07-14T04:35:54.371473Z",
     "shell.execute_reply": "2022-07-14T04:35:54.369983Z"
    },
    "papermill": {
     "duration": 0.079945,
     "end_time": "2022-07-14T04:35:54.374657",
     "exception": false,
     "start_time": "2022-07-14T04:35:54.294712",
     "status": "completed"
    },
    "tags": []
   },
   "outputs": [
    {
     "name": "stdout",
     "output_type": "stream",
     "text": [
      "Gradient Boosted Regression Performance on the test set: MAE = 0.5336\n"
     ]
    }
   ],
   "source": [
    "gradient_boosted = GradientBoostingRegressor(random_state=60)\n",
    "gradient_boosted_mae = fit_and_evaluate(gradient_boosted)\n",
    "\n",
    "print('Gradient Boosted Regression Performance on the test set: MAE = %0.4f' % gradient_boosted_mae)"
   ]
  },
  {
   "cell_type": "code",
   "execution_count": 29,
   "id": "29cadf7f",
   "metadata": {
    "execution": {
     "iopub.execute_input": "2022-07-14T04:35:54.400422Z",
     "iopub.status.busy": "2022-07-14T04:35:54.399304Z",
     "iopub.status.idle": "2022-07-14T04:35:54.422622Z",
     "shell.execute_reply": "2022-07-14T04:35:54.421110Z"
    },
    "papermill": {
     "duration": 0.040559,
     "end_time": "2022-07-14T04:35:54.426716",
     "exception": false,
     "start_time": "2022-07-14T04:35:54.386157",
     "status": "completed"
    },
    "tags": []
   },
   "outputs": [
    {
     "name": "stdout",
     "output_type": "stream",
     "text": [
      "K-Nearest Neighbors Regression Performance on the test set: MAE = 0.4789\n"
     ]
    }
   ],
   "source": [
    "knn = KNeighborsRegressor(n_neighbors=10)\n",
    "knn_mae = fit_and_evaluate(knn)\n",
    "\n",
    "print('K-Nearest Neighbors Regression Performance on the test set: MAE = %0.4f' % knn_mae)"
   ]
  },
  {
   "cell_type": "code",
   "execution_count": 30,
   "id": "e6097217",
   "metadata": {
    "execution": {
     "iopub.execute_input": "2022-07-14T04:35:54.480029Z",
     "iopub.status.busy": "2022-07-14T04:35:54.479363Z",
     "iopub.status.idle": "2022-07-14T04:35:54.731343Z",
     "shell.execute_reply": "2022-07-14T04:35:54.730108Z"
    },
    "papermill": {
     "duration": 0.279994,
     "end_time": "2022-07-14T04:35:54.733815",
     "exception": false,
     "start_time": "2022-07-14T04:35:54.453821",
     "status": "completed"
    },
    "tags": []
   },
   "outputs": [
    {
     "data": {
      "text/plain": [
       "<Figure size 1440x720 with 0 Axes>"
      ]
     },
     "metadata": {},
     "output_type": "display_data"
    },
    {
     "data": {
      "image/png": "[encoded data removed]",
      "text/plain": [
       "<Figure size 432x288 with 1 Axes>"
      ]
     },
     "metadata": {},
     "output_type": "display_data"
    }
   ],
   "source": [
    "import matplotlib.pyplot as plt\n",
    "\n",
    "plt.style.use('fivethirtyeight')\n",
    "plt.figure(figsize=(20,10)) \n",
    "\n",
    "\n",
    "# Dataframe to hold the results\n",
    "model_comparison = pd.DataFrame({'model': ['Linear Regression', 'Support Vector Machine',\n",
    "                                           'Random Forest', 'Gradient Boosted',\n",
    "                                            'K-Nearest Neighbors'],\n",
    "                                 'mae': [lr_mae, svm_mae, random_forest_mae, \n",
    "                                         gradient_boosted_mae, knn_mae]})\n",
    "\n",
    "# Horizontal bar chart of test mae\n",
    "model_comparison.sort_values('mae', ascending = False).plot(x = 'model', y = 'mae', kind = 'barh',\n",
    "                                                           color = 'red', edgecolor = 'black')\n",
    "\n",
    "# Plot formatting\n",
    "plt.ylabel(''); plt.yticks(size = 14); plt.xlabel('Mean Absolute Error'); plt.xticks(size = 14)\n",
    "plt.title('Model Comparison on Test MAE', size = 20);"
   ]
  },
  {
   "cell_type": "code",
   "execution_count": 31,
   "id": "a9333733",
   "metadata": {
    "execution": {
     "iopub.execute_input": "2022-07-14T04:35:54.760200Z",
     "iopub.status.busy": "2022-07-14T04:35:54.759810Z",
     "iopub.status.idle": "2022-07-14T04:35:54.964374Z",
     "shell.execute_reply": "2022-07-14T04:35:54.963139Z"
    },
    "papermill": {
     "duration": 0.221011,
     "end_time": "2022-07-14T04:35:54.967104",
     "exception": false,
     "start_time": "2022-07-14T04:35:54.746093",
     "status": "completed"
    },
    "tags": []
   },
   "outputs": [],
   "source": [
    "# With the model design complete, use all the data for the final model.\n",
    "random_forest.fit(X, y)\n",
    "\n",
    "# Prepare Test Data\n",
    "test_data = pd.read_csv('/kaggle/input/titanic/test.csv')\n",
    "\n",
    "test_data['cabin_section'] = test_data['Cabin'].str.extract('([A-Z])', expand=True)\n",
    "test_data['cabin_section'] = test_data[['cabin_section']].fillna(value = 'Unknown')\n",
    "\n",
    "numerical_subset = test_data[['Pclass', 'Fare']]\n",
    "\n",
    "categorical_subset = test_data[['Sex', 'cabin_section', 'Embarked']]\n",
    "categorical_subset = pd.get_dummies(categorical_subset)\n",
    "\n",
    "test_features = pd.concat([numerical_subset, categorical_subset], axis=1)\n",
    "\n",
    "X_test = test_features"
   ]
  },
  {
   "cell_type": "code",
   "execution_count": 32,
   "id": "157d1bc4",
   "metadata": {
    "execution": {
     "iopub.execute_input": "2022-07-14T04:35:54.993362Z",
     "iopub.status.busy": "2022-07-14T04:35:54.992966Z",
     "iopub.status.idle": "2022-07-14T04:35:55.001657Z",
     "shell.execute_reply": "2022-07-14T04:35:55.000304Z"
    },
    "papermill": {
     "duration": 0.02524,
     "end_time": "2022-07-14T04:35:55.004291",
     "exception": false,
     "start_time": "2022-07-14T04:35:54.979051",
     "status": "completed"
    },
    "tags": []
   },
   "outputs": [
    {
     "name": "stdout",
     "output_type": "stream",
     "text": [
      "Missing values in training features:  Pclass                   0\n",
      "Fare                     1\n",
      "Sex_female               0\n",
      "Sex_male                 0\n",
      "cabin_section_A          0\n",
      "cabin_section_B          0\n",
      "cabin_section_C          0\n",
      "cabin_section_D          0\n",
      "cabin_section_E          0\n",
      "cabin_section_F          0\n",
      "cabin_section_G          0\n",
      "cabin_section_Unknown    0\n",
      "Embarked_C               0\n",
      "Embarked_Q               0\n",
      "Embarked_S               0\n",
      "dtype: int64\n"
     ]
    }
   ],
   "source": [
    "print('Missing values in training features: ', np.sum(np.isnan(X_test)))"
   ]
  },
  {
   "cell_type": "code",
   "execution_count": 33,
   "id": "825597f1",
   "metadata": {
    "execution": {
     "iopub.execute_input": "2022-07-14T04:35:55.031738Z",
     "iopub.status.busy": "2022-07-14T04:35:55.031013Z",
     "iopub.status.idle": "2022-07-14T04:35:55.041866Z",
     "shell.execute_reply": "2022-07-14T04:35:55.040568Z"
    },
    "papermill": {
     "duration": 0.029389,
     "end_time": "2022-07-14T04:35:55.045924",
     "exception": false,
     "start_time": "2022-07-14T04:35:55.016535",
     "status": "completed"
    },
    "tags": []
   },
   "outputs": [
    {
     "name": "stdout",
     "output_type": "stream",
     "text": [
      "Missing values in training features:  Pclass                   0\n",
      "Fare                     0\n",
      "Sex_female               0\n",
      "Sex_male                 0\n",
      "cabin_section_A          0\n",
      "cabin_section_B          0\n",
      "cabin_section_C          0\n",
      "cabin_section_D          0\n",
      "cabin_section_E          0\n",
      "cabin_section_F          0\n",
      "cabin_section_G          0\n",
      "cabin_section_Unknown    0\n",
      "Embarked_C               0\n",
      "Embarked_Q               0\n",
      "Embarked_S               0\n",
      "dtype: int64\n"
     ]
    }
   ],
   "source": [
    "X_test[np.isnan(X_test)] = 0\n",
    "\n",
    "print('Missing values in training features: ', np.sum(np.isnan(X_test)))"
   ]
  },
  {
   "cell_type": "code",
   "execution_count": 34,
   "id": "2008edc7",
   "metadata": {
    "execution": {
     "iopub.execute_input": "2022-07-14T04:35:55.072633Z",
     "iopub.status.busy": "2022-07-14T04:35:55.071908Z",
     "iopub.status.idle": "2022-07-14T04:35:55.125295Z",
     "shell.execute_reply": "2022-07-14T04:35:55.124469Z"
    },
    "papermill": {
     "duration": 0.069011,
     "end_time": "2022-07-14T04:35:55.127517",
     "exception": false,
     "start_time": "2022-07-14T04:35:55.058506",
     "status": "completed"
    },
    "tags": []
   },
   "outputs": [
    {
     "name": "stdout",
     "output_type": "stream",
     "text": [
      "X:\n"
     ]
    },
    {
     "data": {
      "text/html": [
       "<div>\n",
       "<style scoped>\n",
       "    .dataframe tbody tr th:only-of-type {\n",
       "        vertical-align: middle;\n",
       "    }\n",
       "\n",
       "    .dataframe tbody tr th {\n",
       "        vertical-align: top;\n",
       "    }\n",
       "\n",
       "    .dataframe thead th {\n",
       "        text-align: right;\n",
       "    }\n",
       "</style>\n",
       "<table border=\"1\" class=\"dataframe\">\n",
       "  <thead>\n",
       "    <tr style=\"text-align: right;\">\n",
       "      <th></th>\n",
       "      <th>Pclass</th>\n",
       "      <th>Fare</th>\n",
       "      <th>Sex_female</th>\n",
       "      <th>Sex_male</th>\n",
       "      <th>cabin_section_A</th>\n",
       "      <th>cabin_section_B</th>\n",
       "      <th>cabin_section_C</th>\n",
       "      <th>cabin_section_D</th>\n",
       "      <th>cabin_section_E</th>\n",
       "      <th>cabin_section_F</th>\n",
       "      <th>cabin_section_G</th>\n",
       "      <th>cabin_section_T</th>\n",
       "      <th>cabin_section_Unknown</th>\n",
       "      <th>Embarked_C</th>\n",
       "      <th>Embarked_Q</th>\n",
       "      <th>Embarked_S</th>\n",
       "    </tr>\n",
       "  </thead>\n",
       "  <tbody>\n",
       "    <tr>\n",
       "      <th>count</th>\n",
       "      <td>891.000000</td>\n",
       "      <td>891.000000</td>\n",
       "      <td>891.000000</td>\n",
       "      <td>891.000000</td>\n",
       "      <td>891.000000</td>\n",
       "      <td>891.000000</td>\n",
       "      <td>891.000000</td>\n",
       "      <td>891.000000</td>\n",
       "      <td>891.000000</td>\n",
       "      <td>891.000000</td>\n",
       "      <td>891.000000</td>\n",
       "      <td>891.000000</td>\n",
       "      <td>891.000000</td>\n",
       "      <td>891.000000</td>\n",
       "      <td>891.000000</td>\n",
       "      <td>891.000000</td>\n",
       "    </tr>\n",
       "    <tr>\n",
       "      <th>mean</th>\n",
       "      <td>2.308642</td>\n",
       "      <td>32.204208</td>\n",
       "      <td>0.352413</td>\n",
       "      <td>0.647587</td>\n",
       "      <td>0.016835</td>\n",
       "      <td>0.052750</td>\n",
       "      <td>0.066218</td>\n",
       "      <td>0.037037</td>\n",
       "      <td>0.035915</td>\n",
       "      <td>0.014590</td>\n",
       "      <td>0.004489</td>\n",
       "      <td>0.001122</td>\n",
       "      <td>0.771044</td>\n",
       "      <td>0.188552</td>\n",
       "      <td>0.086420</td>\n",
       "      <td>0.722783</td>\n",
       "    </tr>\n",
       "    <tr>\n",
       "      <th>std</th>\n",
       "      <td>0.836071</td>\n",
       "      <td>49.693429</td>\n",
       "      <td>0.477990</td>\n",
       "      <td>0.477990</td>\n",
       "      <td>0.128725</td>\n",
       "      <td>0.223659</td>\n",
       "      <td>0.248802</td>\n",
       "      <td>0.188959</td>\n",
       "      <td>0.186182</td>\n",
       "      <td>0.119973</td>\n",
       "      <td>0.066890</td>\n",
       "      <td>0.033501</td>\n",
       "      <td>0.420397</td>\n",
       "      <td>0.391372</td>\n",
       "      <td>0.281141</td>\n",
       "      <td>0.447876</td>\n",
       "    </tr>\n",
       "    <tr>\n",
       "      <th>min</th>\n",
       "      <td>1.000000</td>\n",
       "      <td>0.000000</td>\n",
       "      <td>0.000000</td>\n",
       "      <td>0.000000</td>\n",
       "      <td>0.000000</td>\n",
       "      <td>0.000000</td>\n",
       "      <td>0.000000</td>\n",
       "      <td>0.000000</td>\n",
       "      <td>0.000000</td>\n",
       "      <td>0.000000</td>\n",
       "      <td>0.000000</td>\n",
       "      <td>0.000000</td>\n",
       "      <td>0.000000</td>\n",
       "      <td>0.000000</td>\n",
       "      <td>0.000000</td>\n",
       "      <td>0.000000</td>\n",
       "    </tr>\n",
       "    <tr>\n",
       "      <th>25%</th>\n",
       "      <td>2.000000</td>\n",
       "      <td>7.910400</td>\n",
       "      <td>0.000000</td>\n",
       "      <td>0.000000</td>\n",
       "      <td>0.000000</td>\n",
       "      <td>0.000000</td>\n",
       "      <td>0.000000</td>\n",
       "      <td>0.000000</td>\n",
       "      <td>0.000000</td>\n",
       "      <td>0.000000</td>\n",
       "      <td>0.000000</td>\n",
       "      <td>0.000000</td>\n",
       "      <td>1.000000</td>\n",
       "      <td>0.000000</td>\n",
       "      <td>0.000000</td>\n",
       "      <td>0.000000</td>\n",
       "    </tr>\n",
       "    <tr>\n",
       "      <th>50%</th>\n",
       "      <td>3.000000</td>\n",
       "      <td>14.454200</td>\n",
       "      <td>0.000000</td>\n",
       "      <td>1.000000</td>\n",
       "      <td>0.000000</td>\n",
       "      <td>0.000000</td>\n",
       "      <td>0.000000</td>\n",
       "      <td>0.000000</td>\n",
       "      <td>0.000000</td>\n",
       "      <td>0.000000</td>\n",
       "      <td>0.000000</td>\n",
       "      <td>0.000000</td>\n",
       "      <td>1.000000</td>\n",
       "      <td>0.000000</td>\n",
       "      <td>0.000000</td>\n",
       "      <td>1.000000</td>\n",
       "    </tr>\n",
       "    <tr>\n",
       "      <th>75%</th>\n",
       "      <td>3.000000</td>\n",
       "      <td>31.000000</td>\n",
       "      <td>1.000000</td>\n",
       "      <td>1.000000</td>\n",
       "      <td>0.000000</td>\n",
       "      <td>0.000000</td>\n",
       "      <td>0.000000</td>\n",
       "      <td>0.000000</td>\n",
       "      <td>0.000000</td>\n",
       "      <td>0.000000</td>\n",
       "      <td>0.000000</td>\n",
       "      <td>0.000000</td>\n",
       "      <td>1.000000</td>\n",
       "      <td>0.000000</td>\n",
       "      <td>0.000000</td>\n",
       "      <td>1.000000</td>\n",
       "    </tr>\n",
       "    <tr>\n",
       "      <th>max</th>\n",
       "      <td>3.000000</td>\n",
       "      <td>512.329200</td>\n",
       "      <td>1.000000</td>\n",
       "      <td>1.000000</td>\n",
       "      <td>1.000000</td>\n",
       "      <td>1.000000</td>\n",
       "      <td>1.000000</td>\n",
       "      <td>1.000000</td>\n",
       "      <td>1.000000</td>\n",
       "      <td>1.000000</td>\n",
       "      <td>1.000000</td>\n",
       "      <td>1.000000</td>\n",
       "      <td>1.000000</td>\n",
       "      <td>1.000000</td>\n",
       "      <td>1.000000</td>\n",
       "      <td>1.000000</td>\n",
       "    </tr>\n",
       "  </tbody>\n",
       "</table>\n",
       "</div>"
      ],
      "text/plain": [
       "           Pclass        Fare  Sex_female    Sex_male  cabin_section_A  \\\n",
       "count  891.000000  891.000000  891.000000  891.000000       891.000000   \n",
       "mean     2.308642   32.204208    0.352413    0.647587         0.016835   \n",
       "std      0.836071   49.693429    0.477990    0.477990         0.128725   \n",
       "min      1.000000    0.000000    0.000000    0.000000         0.000000   \n",
       "25%      2.000000    7.910400    0.000000    0.000000         0.000000   \n",
       "50%      3.000000   14.454200    0.000000    1.000000         0.000000   \n",
       "75%      3.000000   31.000000    1.000000    1.000000         0.000000   \n",
       "max      3.000000  512.329200    1.000000    1.000000         1.000000   \n",
       "\n",
       "       cabin_section_B  cabin_section_C  cabin_section_D  cabin_section_E  \\\n",
       "count       891.000000       891.000000       891.000000       891.000000   \n",
       "mean          0.052750         0.066218         0.037037         0.035915   \n",
       "std           0.223659         0.248802         0.188959         0.186182   \n",
       "min           0.000000         0.000000         0.000000         0.000000   \n",
       "25%           0.000000         0.000000         0.000000         0.000000   \n",
       "50%           0.000000         0.000000         0.000000         0.000000   \n",
       "75%           0.000000         0.000000         0.000000         0.000000   \n",
       "max           1.000000         1.000000         1.000000         1.000000   \n",
       "\n",
       "       cabin_section_F  cabin_section_G  cabin_section_T  \\\n",
       "count       891.000000       891.000000       891.000000   \n",
       "mean          0.014590         0.004489         0.001122   \n",
       "std           0.119973         0.066890         0.033501   \n",
       "min           0.000000         0.000000         0.000000   \n",
       "25%           0.000000         0.000000         0.000000   \n",
       "50%           0.000000         0.000000         0.000000   \n",
       "75%           0.000000         0.000000         0.000000   \n",
       "max           1.000000         1.000000         1.000000   \n",
       "\n",
       "       cabin_section_Unknown  Embarked_C  Embarked_Q  Embarked_S  \n",
       "count             891.000000  891.000000  891.000000  891.000000  \n",
       "mean                0.771044    0.188552    0.086420    0.722783  \n",
       "std                 0.420397    0.391372    0.281141    0.447876  \n",
       "min                 0.000000    0.000000    0.000000    0.000000  \n",
       "25%                 1.000000    0.000000    0.000000    0.000000  \n",
       "50%                 1.000000    0.000000    0.000000    1.000000  \n",
       "75%                 1.000000    0.000000    0.000000    1.000000  \n",
       "max                 1.000000    1.000000    1.000000    1.000000  "
      ]
     },
     "execution_count": 34,
     "metadata": {},
     "output_type": "execute_result"
    }
   ],
   "source": [
    "print('X:')\n",
    "X.describe()\n"
   ]
  },
  {
   "cell_type": "code",
   "execution_count": 35,
   "id": "9fba9191",
   "metadata": {
    "execution": {
     "iopub.execute_input": "2022-07-14T04:35:55.154068Z",
     "iopub.status.busy": "2022-07-14T04:35:55.152992Z",
     "iopub.status.idle": "2022-07-14T04:35:55.203280Z",
     "shell.execute_reply": "2022-07-14T04:35:55.201413Z"
    },
    "papermill": {
     "duration": 0.065909,
     "end_time": "2022-07-14T04:35:55.205576",
     "exception": false,
     "start_time": "2022-07-14T04:35:55.139667",
     "status": "completed"
    },
    "tags": []
   },
   "outputs": [
    {
     "name": "stdout",
     "output_type": "stream",
     "text": [
      "X_Test\n"
     ]
    },
    {
     "data": {
      "text/html": [
       "<div>\n",
       "<style scoped>\n",
       "    .dataframe tbody tr th:only-of-type {\n",
       "        vertical-align: middle;\n",
       "    }\n",
       "\n",
       "    .dataframe tbody tr th {\n",
       "        vertical-align: top;\n",
       "    }\n",
       "\n",
       "    .dataframe thead th {\n",
       "        text-align: right;\n",
       "    }\n",
       "</style>\n",
       "<table border=\"1\" class=\"dataframe\">\n",
       "  <thead>\n",
       "    <tr style=\"text-align: right;\">\n",
       "      <th></th>\n",
       "      <th>Pclass</th>\n",
       "      <th>Fare</th>\n",
       "      <th>Sex_female</th>\n",
       "      <th>Sex_male</th>\n",
       "      <th>cabin_section_A</th>\n",
       "      <th>cabin_section_B</th>\n",
       "      <th>cabin_section_C</th>\n",
       "      <th>cabin_section_D</th>\n",
       "      <th>cabin_section_E</th>\n",
       "      <th>cabin_section_F</th>\n",
       "      <th>cabin_section_G</th>\n",
       "      <th>cabin_section_Unknown</th>\n",
       "      <th>Embarked_C</th>\n",
       "      <th>Embarked_Q</th>\n",
       "      <th>Embarked_S</th>\n",
       "    </tr>\n",
       "  </thead>\n",
       "  <tbody>\n",
       "    <tr>\n",
       "      <th>count</th>\n",
       "      <td>418.000000</td>\n",
       "      <td>418.000000</td>\n",
       "      <td>418.000000</td>\n",
       "      <td>418.000000</td>\n",
       "      <td>418.000000</td>\n",
       "      <td>418.000000</td>\n",
       "      <td>418.000000</td>\n",
       "      <td>418.000000</td>\n",
       "      <td>418.000000</td>\n",
       "      <td>418.000000</td>\n",
       "      <td>418.000000</td>\n",
       "      <td>418.000000</td>\n",
       "      <td>418.000000</td>\n",
       "      <td>418.000000</td>\n",
       "      <td>418.000000</td>\n",
       "    </tr>\n",
       "    <tr>\n",
       "      <th>mean</th>\n",
       "      <td>2.265550</td>\n",
       "      <td>35.541956</td>\n",
       "      <td>0.363636</td>\n",
       "      <td>0.636364</td>\n",
       "      <td>0.016746</td>\n",
       "      <td>0.043062</td>\n",
       "      <td>0.083732</td>\n",
       "      <td>0.031100</td>\n",
       "      <td>0.021531</td>\n",
       "      <td>0.019139</td>\n",
       "      <td>0.002392</td>\n",
       "      <td>0.782297</td>\n",
       "      <td>0.244019</td>\n",
       "      <td>0.110048</td>\n",
       "      <td>0.645933</td>\n",
       "    </tr>\n",
       "    <tr>\n",
       "      <th>std</th>\n",
       "      <td>0.841838</td>\n",
       "      <td>55.867684</td>\n",
       "      <td>0.481622</td>\n",
       "      <td>0.481622</td>\n",
       "      <td>0.128474</td>\n",
       "      <td>0.203240</td>\n",
       "      <td>0.277317</td>\n",
       "      <td>0.173797</td>\n",
       "      <td>0.145320</td>\n",
       "      <td>0.137177</td>\n",
       "      <td>0.048912</td>\n",
       "      <td>0.413179</td>\n",
       "      <td>0.430019</td>\n",
       "      <td>0.313324</td>\n",
       "      <td>0.478803</td>\n",
       "    </tr>\n",
       "    <tr>\n",
       "      <th>min</th>\n",
       "      <td>1.000000</td>\n",
       "      <td>0.000000</td>\n",
       "      <td>0.000000</td>\n",
       "      <td>0.000000</td>\n",
       "      <td>0.000000</td>\n",
       "      <td>0.000000</td>\n",
       "      <td>0.000000</td>\n",
       "      <td>0.000000</td>\n",
       "      <td>0.000000</td>\n",
       "      <td>0.000000</td>\n",
       "      <td>0.000000</td>\n",
       "      <td>0.000000</td>\n",
       "      <td>0.000000</td>\n",
       "      <td>0.000000</td>\n",
       "      <td>0.000000</td>\n",
       "    </tr>\n",
       "    <tr>\n",
       "      <th>25%</th>\n",
       "      <td>1.000000</td>\n",
       "      <td>7.895800</td>\n",
       "      <td>0.000000</td>\n",
       "      <td>0.000000</td>\n",
       "      <td>0.000000</td>\n",
       "      <td>0.000000</td>\n",
       "      <td>0.000000</td>\n",
       "      <td>0.000000</td>\n",
       "      <td>0.000000</td>\n",
       "      <td>0.000000</td>\n",
       "      <td>0.000000</td>\n",
       "      <td>1.000000</td>\n",
       "      <td>0.000000</td>\n",
       "      <td>0.000000</td>\n",
       "      <td>0.000000</td>\n",
       "    </tr>\n",
       "    <tr>\n",
       "      <th>50%</th>\n",
       "      <td>3.000000</td>\n",
       "      <td>14.454200</td>\n",
       "      <td>0.000000</td>\n",
       "      <td>1.000000</td>\n",
       "      <td>0.000000</td>\n",
       "      <td>0.000000</td>\n",
       "      <td>0.000000</td>\n",
       "      <td>0.000000</td>\n",
       "      <td>0.000000</td>\n",
       "      <td>0.000000</td>\n",
       "      <td>0.000000</td>\n",
       "      <td>1.000000</td>\n",
       "      <td>0.000000</td>\n",
       "      <td>0.000000</td>\n",
       "      <td>1.000000</td>\n",
       "    </tr>\n",
       "    <tr>\n",
       "      <th>75%</th>\n",
       "      <td>3.000000</td>\n",
       "      <td>31.471875</td>\n",
       "      <td>1.000000</td>\n",
       "      <td>1.000000</td>\n",
       "      <td>0.000000</td>\n",
       "      <td>0.000000</td>\n",
       "      <td>0.000000</td>\n",
       "      <td>0.000000</td>\n",
       "      <td>0.000000</td>\n",
       "      <td>0.000000</td>\n",
       "      <td>0.000000</td>\n",
       "      <td>1.000000</td>\n",
       "      <td>0.000000</td>\n",
       "      <td>0.000000</td>\n",
       "      <td>1.000000</td>\n",
       "    </tr>\n",
       "    <tr>\n",
       "      <th>max</th>\n",
       "      <td>3.000000</td>\n",
       "      <td>512.329200</td>\n",
       "      <td>1.000000</td>\n",
       "      <td>1.000000</td>\n",
       "      <td>1.000000</td>\n",
       "      <td>1.000000</td>\n",
       "      <td>1.000000</td>\n",
       "      <td>1.000000</td>\n",
       "      <td>1.000000</td>\n",
       "      <td>1.000000</td>\n",
       "      <td>1.000000</td>\n",
       "      <td>1.000000</td>\n",
       "      <td>1.000000</td>\n",
       "      <td>1.000000</td>\n",
       "      <td>1.000000</td>\n",
       "    </tr>\n",
       "  </tbody>\n",
       "</table>\n",
       "</div>"
      ],
      "text/plain": [
       "           Pclass        Fare  Sex_female    Sex_male  cabin_section_A  \\\n",
       "count  418.000000  418.000000  418.000000  418.000000       418.000000   \n",
       "mean     2.265550   35.541956    0.363636    0.636364         0.016746   \n",
       "std      0.841838   55.867684    0.481622    0.481622         0.128474   \n",
       "min      1.000000    0.000000    0.000000    0.000000         0.000000   \n",
       "25%      1.000000    7.895800    0.000000    0.000000         0.000000   \n",
       "50%      3.000000   14.454200    0.000000    1.000000         0.000000   \n",
       "75%      3.000000   31.471875    1.000000    1.000000         0.000000   \n",
       "max      3.000000  512.329200    1.000000    1.000000         1.000000   \n",
       "\n",
       "       cabin_section_B  cabin_section_C  cabin_section_D  cabin_section_E  \\\n",
       "count       418.000000       418.000000       418.000000       418.000000   \n",
       "mean          0.043062         0.083732         0.031100         0.021531   \n",
       "std           0.203240         0.277317         0.173797         0.145320   \n",
       "min           0.000000         0.000000         0.000000         0.000000   \n",
       "25%           0.000000         0.000000         0.000000         0.000000   \n",
       "50%           0.000000         0.000000         0.000000         0.000000   \n",
       "75%           0.000000         0.000000         0.000000         0.000000   \n",
       "max           1.000000         1.000000         1.000000         1.000000   \n",
       "\n",
       "       cabin_section_F  cabin_section_G  cabin_section_Unknown  Embarked_C  \\\n",
       "count       418.000000       418.000000             418.000000  418.000000   \n",
       "mean          0.019139         0.002392               0.782297    0.244019   \n",
       "std           0.137177         0.048912               0.413179    0.430019   \n",
       "min           0.000000         0.000000               0.000000    0.000000   \n",
       "25%           0.000000         0.000000               1.000000    0.000000   \n",
       "50%           0.000000         0.000000               1.000000    0.000000   \n",
       "75%           0.000000         0.000000               1.000000    0.000000   \n",
       "max           1.000000         1.000000               1.000000    1.000000   \n",
       "\n",
       "       Embarked_Q  Embarked_S  \n",
       "count  418.000000  418.000000  \n",
       "mean     0.110048    0.645933  \n",
       "std      0.313324    0.478803  \n",
       "min      0.000000    0.000000  \n",
       "25%      0.000000    0.000000  \n",
       "50%      0.000000    1.000000  \n",
       "75%      0.000000    1.000000  \n",
       "max      1.000000    1.000000  "
      ]
     },
     "execution_count": 35,
     "metadata": {},
     "output_type": "execute_result"
    }
   ],
   "source": [
    "print('X_Test')\n",
    "X_test.describe()"
   ]
  },
  {
   "cell_type": "code",
   "execution_count": 36,
   "id": "2fd54b2f",
   "metadata": {
    "execution": {
     "iopub.execute_input": "2022-07-14T04:35:55.232328Z",
     "iopub.status.busy": "2022-07-14T04:35:55.231301Z",
     "iopub.status.idle": "2022-07-14T04:35:55.237850Z",
     "shell.execute_reply": "2022-07-14T04:35:55.236707Z"
    },
    "papermill": {
     "duration": 0.022695,
     "end_time": "2022-07-14T04:35:55.240466",
     "exception": false,
     "start_time": "2022-07-14T04:35:55.217771",
     "status": "completed"
    },
    "tags": []
   },
   "outputs": [],
   "source": [
    "X_test.insert(11,'cabin_section_T','')\n",
    "X_test['cabin_section_T'] = 0"
   ]
  },
  {
   "cell_type": "code",
   "execution_count": 37,
   "id": "854008c6",
   "metadata": {
    "execution": {
     "iopub.execute_input": "2022-07-14T04:35:55.268536Z",
     "iopub.status.busy": "2022-07-14T04:35:55.268007Z",
     "iopub.status.idle": "2022-07-14T04:35:55.323160Z",
     "shell.execute_reply": "2022-07-14T04:35:55.321969Z"
    },
    "papermill": {
     "duration": 0.072106,
     "end_time": "2022-07-14T04:35:55.326015",
     "exception": false,
     "start_time": "2022-07-14T04:35:55.253909",
     "status": "completed"
    },
    "tags": []
   },
   "outputs": [
    {
     "name": "stdout",
     "output_type": "stream",
     "text": [
      "X_Test\n"
     ]
    },
    {
     "data": {
      "text/html": [
       "<div>\n",
       "<style scoped>\n",
       "    .dataframe tbody tr th:only-of-type {\n",
       "        vertical-align: middle;\n",
       "    }\n",
       "\n",
       "    .dataframe tbody tr th {\n",
       "        vertical-align: top;\n",
       "    }\n",
       "\n",
       "    .dataframe thead th {\n",
       "        text-align: right;\n",
       "    }\n",
       "</style>\n",
       "<table border=\"1\" class=\"dataframe\">\n",
       "  <thead>\n",
       "    <tr style=\"text-align: right;\">\n",
       "      <th></th>\n",
       "      <th>Pclass</th>\n",
       "      <th>Fare</th>\n",
       "      <th>Sex_female</th>\n",
       "      <th>Sex_male</th>\n",
       "      <th>cabin_section_A</th>\n",
       "      <th>cabin_section_B</th>\n",
       "      <th>cabin_section_C</th>\n",
       "      <th>cabin_section_D</th>\n",
       "      <th>cabin_section_E</th>\n",
       "      <th>cabin_section_F</th>\n",
       "      <th>cabin_section_G</th>\n",
       "      <th>cabin_section_T</th>\n",
       "      <th>cabin_section_Unknown</th>\n",
       "      <th>Embarked_C</th>\n",
       "      <th>Embarked_Q</th>\n",
       "      <th>Embarked_S</th>\n",
       "    </tr>\n",
       "  </thead>\n",
       "  <tbody>\n",
       "    <tr>\n",
       "      <th>count</th>\n",
       "      <td>418.000000</td>\n",
       "      <td>418.000000</td>\n",
       "      <td>418.000000</td>\n",
       "      <td>418.000000</td>\n",
       "      <td>418.000000</td>\n",
       "      <td>418.000000</td>\n",
       "      <td>418.000000</td>\n",
       "      <td>418.000000</td>\n",
       "      <td>418.000000</td>\n",
       "      <td>418.000000</td>\n",
       "      <td>418.000000</td>\n",
       "      <td>418.0</td>\n",
       "      <td>418.000000</td>\n",
       "      <td>418.000000</td>\n",
       "      <td>418.000000</td>\n",
       "      <td>418.000000</td>\n",
       "    </tr>\n",
       "    <tr>\n",
       "      <th>mean</th>\n",
       "      <td>2.265550</td>\n",
       "      <td>35.541956</td>\n",
       "      <td>0.363636</td>\n",
       "      <td>0.636364</td>\n",
       "      <td>0.016746</td>\n",
       "      <td>0.043062</td>\n",
       "      <td>0.083732</td>\n",
       "      <td>0.031100</td>\n",
       "      <td>0.021531</td>\n",
       "      <td>0.019139</td>\n",
       "      <td>0.002392</td>\n",
       "      <td>0.0</td>\n",
       "      <td>0.782297</td>\n",
       "      <td>0.244019</td>\n",
       "      <td>0.110048</td>\n",
       "      <td>0.645933</td>\n",
       "    </tr>\n",
       "    <tr>\n",
       "      <th>std</th>\n",
       "      <td>0.841838</td>\n",
       "      <td>55.867684</td>\n",
       "      <td>0.481622</td>\n",
       "      <td>0.481622</td>\n",
       "      <td>0.128474</td>\n",
       "      <td>0.203240</td>\n",
       "      <td>0.277317</td>\n",
       "      <td>0.173797</td>\n",
       "      <td>0.145320</td>\n",
       "      <td>0.137177</td>\n",
       "      <td>0.048912</td>\n",
       "      <td>0.0</td>\n",
       "      <td>0.413179</td>\n",
       "      <td>0.430019</td>\n",
       "      <td>0.313324</td>\n",
       "      <td>0.478803</td>\n",
       "    </tr>\n",
       "    <tr>\n",
       "      <th>min</th>\n",
       "      <td>1.000000</td>\n",
       "      <td>0.000000</td>\n",
       "      <td>0.000000</td>\n",
       "      <td>0.000000</td>\n",
       "      <td>0.000000</td>\n",
       "      <td>0.000000</td>\n",
       "      <td>0.000000</td>\n",
       "      <td>0.000000</td>\n",
       "      <td>0.000000</td>\n",
       "      <td>0.000000</td>\n",
       "      <td>0.000000</td>\n",
       "      <td>0.0</td>\n",
       "      <td>0.000000</td>\n",
       "      <td>0.000000</td>\n",
       "      <td>0.000000</td>\n",
       "      <td>0.000000</td>\n",
       "    </tr>\n",
       "    <tr>\n",
       "      <th>25%</th>\n",
       "      <td>1.000000</td>\n",
       "      <td>7.895800</td>\n",
       "      <td>0.000000</td>\n",
       "      <td>0.000000</td>\n",
       "      <td>0.000000</td>\n",
       "      <td>0.000000</td>\n",
       "      <td>0.000000</td>\n",
       "      <td>0.000000</td>\n",
       "      <td>0.000000</td>\n",
       "      <td>0.000000</td>\n",
       "      <td>0.000000</td>\n",
       "      <td>0.0</td>\n",
       "      <td>1.000000</td>\n",
       "      <td>0.000000</td>\n",
       "      <td>0.000000</td>\n",
       "      <td>0.000000</td>\n",
       "    </tr>\n",
       "    <tr>\n",
       "      <th>50%</th>\n",
       "      <td>3.000000</td>\n",
       "      <td>14.454200</td>\n",
       "      <td>0.000000</td>\n",
       "      <td>1.000000</td>\n",
       "      <td>0.000000</td>\n",
       "      <td>0.000000</td>\n",
       "      <td>0.000000</td>\n",
       "      <td>0.000000</td>\n",
       "      <td>0.000000</td>\n",
       "      <td>0.000000</td>\n",
       "      <td>0.000000</td>\n",
       "      <td>0.0</td>\n",
       "      <td>1.000000</td>\n",
       "      <td>0.000000</td>\n",
       "      <td>0.000000</td>\n",
       "      <td>1.000000</td>\n",
       "    </tr>\n",
       "    <tr>\n",
       "      <th>75%</th>\n",
       "      <td>3.000000</td>\n",
       "      <td>31.471875</td>\n",
       "      <td>1.000000</td>\n",
       "      <td>1.000000</td>\n",
       "      <td>0.000000</td>\n",
       "      <td>0.000000</td>\n",
       "      <td>0.000000</td>\n",
       "      <td>0.000000</td>\n",
       "      <td>0.000000</td>\n",
       "      <td>0.000000</td>\n",
       "      <td>0.000000</td>\n",
       "      <td>0.0</td>\n",
       "      <td>1.000000</td>\n",
       "      <td>0.000000</td>\n",
       "      <td>0.000000</td>\n",
       "      <td>1.000000</td>\n",
       "    </tr>\n",
       "    <tr>\n",
       "      <th>max</th>\n",
       "      <td>3.000000</td>\n",
       "      <td>512.329200</td>\n",
       "      <td>1.000000</td>\n",
       "      <td>1.000000</td>\n",
       "      <td>1.000000</td>\n",
       "      <td>1.000000</td>\n",
       "      <td>1.000000</td>\n",
       "      <td>1.000000</td>\n",
       "      <td>1.000000</td>\n",
       "      <td>1.000000</td>\n",
       "      <td>1.000000</td>\n",
       "      <td>0.0</td>\n",
       "      <td>1.000000</td>\n",
       "      <td>1.000000</td>\n",
       "      <td>1.000000</td>\n",
       "      <td>1.000000</td>\n",
       "    </tr>\n",
       "  </tbody>\n",
       "</table>\n",
       "</div>"
      ],
      "text/plain": [
       "           Pclass        Fare  Sex_female    Sex_male  cabin_section_A  \\\n",
       "count  418.000000  418.000000  418.000000  418.000000       418.000000   \n",
       "mean     2.265550   35.541956    0.363636    0.636364         0.016746   \n",
       "std      0.841838   55.867684    0.481622    0.481622         0.128474   \n",
       "min      1.000000    0.000000    0.000000    0.000000         0.000000   \n",
       "25%      1.000000    7.895800    0.000000    0.000000         0.000000   \n",
       "50%      3.000000   14.454200    0.000000    1.000000         0.000000   \n",
       "75%      3.000000   31.471875    1.000000    1.000000         0.000000   \n",
       "max      3.000000  512.329200    1.000000    1.000000         1.000000   \n",
       "\n",
       "       cabin_section_B  cabin_section_C  cabin_section_D  cabin_section_E  \\\n",
       "count       418.000000       418.000000       418.000000       418.000000   \n",
       "mean          0.043062         0.083732         0.031100         0.021531   \n",
       "std           0.203240         0.277317         0.173797         0.145320   \n",
       "min           0.000000         0.000000         0.000000         0.000000   \n",
       "25%           0.000000         0.000000         0.000000         0.000000   \n",
       "50%           0.000000         0.000000         0.000000         0.000000   \n",
       "75%           0.000000         0.000000         0.000000         0.000000   \n",
       "max           1.000000         1.000000         1.000000         1.000000   \n",
       "\n",
       "       cabin_section_F  cabin_section_G  cabin_section_T  \\\n",
       "count       418.000000       418.000000            418.0   \n",
       "mean          0.019139         0.002392              0.0   \n",
       "std           0.137177         0.048912              0.0   \n",
       "min           0.000000         0.000000              0.0   \n",
       "25%           0.000000         0.000000              0.0   \n",
       "50%           0.000000         0.000000              0.0   \n",
       "75%           0.000000         0.000000              0.0   \n",
       "max           1.000000         1.000000              0.0   \n",
       "\n",
       "       cabin_section_Unknown  Embarked_C  Embarked_Q  Embarked_S  \n",
       "count             418.000000  418.000000  418.000000  418.000000  \n",
       "mean                0.782297    0.244019    0.110048    0.645933  \n",
       "std                 0.413179    0.430019    0.313324    0.478803  \n",
       "min                 0.000000    0.000000    0.000000    0.000000  \n",
       "25%                 1.000000    0.000000    0.000000    0.000000  \n",
       "50%                 1.000000    0.000000    0.000000    1.000000  \n",
       "75%                 1.000000    0.000000    0.000000    1.000000  \n",
       "max                 1.000000    1.000000    1.000000    1.000000  "
      ]
     },
     "execution_count": 37,
     "metadata": {},
     "output_type": "execute_result"
    }
   ],
   "source": [
    "print('X_Test')\n",
    "X_test.describe()"
   ]
  },
  {
   "cell_type": "code",
   "execution_count": 38,
   "id": "e30d6951",
   "metadata": {
    "execution": {
     "iopub.execute_input": "2022-07-14T04:35:55.354835Z",
     "iopub.status.busy": "2022-07-14T04:35:55.354011Z",
     "iopub.status.idle": "2022-07-14T04:35:55.379444Z",
     "shell.execute_reply": "2022-07-14T04:35:55.378496Z"
    },
    "papermill": {
     "duration": 0.042483,
     "end_time": "2022-07-14T04:35:55.382045",
     "exception": false,
     "start_time": "2022-07-14T04:35:55.339562",
     "status": "completed"
    },
    "tags": []
   },
   "outputs": [],
   "source": [
    "test_predictions = random_forest.predict(X_test).astype(int)\n",
    "\n",
    "output = pd.DataFrame({'PassengerId' : test_data.PassengerId,\n",
    "                   'Survived' : test_predictions})\n",
    "\n",
    "output.to_csv('submission.csv',index=False)"
   ]
  },
  {
   "cell_type": "code",
   "execution_count": null,
   "id": "e2fff3fd",
   "metadata": {
    "papermill": {
     "duration": 0.014122,
     "end_time": "2022-07-14T04:35:55.409157",
     "exception": false,
     "start_time": "2022-07-14T04:35:55.395035",
     "status": "completed"
    },
    "tags": []
   },
   "outputs": [],
   "source": []
  }
 ],
 "metadata": {
  "kernelspec": {
   "display_name": "Python 3",
   "language": "python",
   "name": "python3"
  },
  "language_info": {
   "codemirror_mode": {
    "name": "ipython",
    "version": 3
   },
   "file_extension": ".py",
   "mimetype": "text/x-python",
   "name": "python",
   "nbconvert_exporter": "python",
   "pygments_lexer": "ipython3",
   "version": "3.7.12"
  },
  "papermill": {
   "default_parameters": {},
   "duration": 15.410138,
   "end_time": "2022-07-14T04:35:56.243947",
   "environment_variables": {},
   "exception": null,
   "input_path": "__notebook__.ipynb",
   "output_path": "__notebook__.ipynb",
   "parameters": {},
   "start_time": "2022-07-14T04:35:40.833809",
   "version": "2.3.4"
  }
 },
 "nbformat": 4,
 "nbformat_minor": 5
}
